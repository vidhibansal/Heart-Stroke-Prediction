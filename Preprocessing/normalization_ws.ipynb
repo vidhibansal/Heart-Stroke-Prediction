{
 "cells": [
  {
   "cell_type": "code",
   "execution_count": 4,
   "metadata": {},
   "outputs": [],
   "source": [
    "import math\n",
    "import pandas as pd\n",
    "import numpy as np\n",
    "import matplotlib.pyplot as plt\n",
    "from sklearn.linear_model import LinearRegression\n",
    "from sklearn import metrics\n",
    "import statsmodels.api as sm\n",
    "from imblearn.over_sampling import SMOTENC\n",
    "from sklearn.linear_model import LogisticRegression\n",
    "from sklearn.metrics import classification_report\n",
    "from sklearn.metrics import roc_auc_score\n",
    "from sklearn.metrics import roc_curve\n",
    "from sklearn import preprocessing"
   ]
  },
  {
   "cell_type": "code",
   "execution_count": 24,
   "metadata": {},
   "outputs": [
    {
     "name": "stdout",
     "output_type": "stream",
     "text": [
      "        id   age  hypertension  heart_disease  avg_glucose_level   bmi  \\\n",
      "0  30468.0  58.0           1.0            0.0              87.96  39.2   \n",
      "1  56543.0  70.0           0.0            0.0              69.04  35.9   \n",
      "2  52800.0  52.0           0.0            0.0              77.59  17.7   \n",
      "\n",
      "    smoking_status  Male  married  urban  children  Private  Self-employed  \\\n",
      "0     never smoked   1.0      1.0    1.0         0      1.0            0.0   \n",
      "1  formerly smoked   0.0      1.0    0.0         0      1.0            0.0   \n",
      "2  formerly smoked   0.0      1.0    1.0         0      1.0            0.0   \n",
      "\n",
      "   Govt_job  Never_worked  stroke  \n",
      "0       0.0             0       0  \n",
      "1       0.0             0       0  \n",
      "2       0.0             0       0  \n"
     ]
    }
   ],
   "source": [
    "df = pd.read_csv('with_smoking.csv', index_col=0)\n",
    "print(df.head(3))"
   ]
  },
  {
   "cell_type": "code",
   "execution_count": 25,
   "metadata": {},
   "outputs": [],
   "source": [
    "X_train = df.drop('stroke', axis=1)\n",
    "X_train = X_train.drop('smoking_status', axis=1)\n",
    "X_train = X_train.drop('id', axis=1)\n",
    "X_train = X_train.drop('Male', axis=1)\n",
    "X_train = X_train.drop('Private', axis=1)\n",
    "X_train = X_train.drop('married', axis=1)\n",
    "X_train = X_train.drop('Never_worked', axis=1)\n",
    "X_train = X_train.drop('Self-employed', axis=1)\n",
    "X_train = X_train.drop('Govt_job', axis=1)\n",
    "X_train = X_train.drop('children', axis=1)\n",
    "X_train = X_train.drop('urban', axis=1)\n",
    "#X_train = df.drop('id', axis=1)\n",
    "X_scaled = preprocessing.scale(X_train)\n",
    "df1 = pd.DataFrame(X_scaled,columns=['age','hypertension','heart_disease','avg_glucose_level','bmi'])"
   ]
  },
  {
   "cell_type": "code",
   "execution_count": 26,
   "metadata": {},
   "outputs": [],
   "source": [
    "df1.to_csv('normalize_ws.csv')"
   ]
  },
  {
   "cell_type": "code",
   "execution_count": 27,
   "metadata": {},
   "outputs": [],
   "source": [
    "#I have added all the columns explicitly in normalize_ws"
   ]
  },
  {
   "cell_type": "code",
   "execution_count": 29,
   "metadata": {},
   "outputs": [],
   "source": [
    "df = pd.read_csv('normalizee_ws.csv', index_col=0)\n",
    "        "
   ]
  },
  {
   "cell_type": "code",
   "execution_count": 12,
   "metadata": {},
   "outputs": [],
   "source": [
    "for i in range(30109, len(df.index)):\n",
    "    if df.iloc[i]['married'] > 0.5:\n",
    "        df.loc[i,'married']=1\n",
    "    else:\n",
    "        df.loc[i,'married']=0\n",
    "    if df.iloc[i]['Self-employed'] >0.5:\n",
    "        df.loc[i,'Self-employed']=1\n",
    "    else:\n",
    "        df.loc[i,'Self-employed']=0\n",
    "    if df.iloc[i]['urban'] >0.5:\n",
    "        df.loc[i,'urban']=1\n",
    "    else:\n",
    "        df.loc[i,'urban']=0\n",
    "    if df.iloc[i]['children'] >0.5:\n",
    "        df.loc[i,'children']=1\n",
    "    else:\n",
    "        df.loc[i,'children']=0\n",
    "    if df.iloc[i]['Private'] >0.5:\n",
    "        df.loc[i,'Private']=1\n",
    "    else:\n",
    "        df.loc[i,'Private']=0\n",
    "\n"
   ]
  },
  {
   "cell_type": "code",
   "execution_count": null,
   "metadata": {},
   "outputs": [],
   "source": []
  },
  {
   "cell_type": "code",
   "execution_count": 30,
   "metadata": {},
   "outputs": [],
   "source": [
    "for i in range(1, len(df.index)):\n",
    "    if df.iloc[i]['Govt_job'] > 0.5:\n",
    "        df.loc[i,'Govt_job']=1\n",
    "    else:\n",
    "        df.loc[i,'Govt_job']=0"
   ]
  },
  {
   "cell_type": "code",
   "execution_count": 31,
   "metadata": {},
   "outputs": [],
   "source": [
    "df= df.sample(frac=1)"
   ]
  },
  {
   "cell_type": "code",
   "execution_count": 32,
   "metadata": {},
   "outputs": [],
   "source": [
    "df.to_csv('normalizee_ws.csv')"
   ]
  },
  {
   "cell_type": "code",
   "execution_count": null,
   "metadata": {},
   "outputs": [],
   "source": []
  }
 ],
 "metadata": {
  "kernelspec": {
   "display_name": "Python 3",
   "language": "python",
   "name": "python3"
  },
  "language_info": {
   "codemirror_mode": {
    "name": "ipython",
    "version": 3
   },
   "file_extension": ".py",
   "mimetype": "text/x-python",
   "name": "python",
   "nbconvert_exporter": "python",
   "pygments_lexer": "ipython3",
   "version": "3.7.0"
  }
 },
 "nbformat": 4,
 "nbformat_minor": 2
}
