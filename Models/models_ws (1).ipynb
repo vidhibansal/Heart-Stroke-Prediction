{
 "cells": [
  {
   "cell_type": "code",
   "execution_count": 4,
   "metadata": {},
   "outputs": [],
   "source": [
    "import math\n",
    "import pandas as pd\n",
    "import numpy as np\n",
    "import matplotlib.pyplot as plt\n",
    "from sklearn.linear_model import LinearRegression\n",
    "from sklearn import metrics\n",
    "import statsmodels.api as sm\n",
    "from imblearn.over_sampling import SMOTE\n",
    "from sklearn.linear_model import LogisticRegression\n",
    "from sklearn.metrics import classification_report\n",
    "from sklearn.metrics import roc_auc_score\n",
    "from sklearn.metrics import roc_curve\n",
    "from sklearn import preprocessing\n",
    "from sklearn.model_selection import train_test_split\n",
    "from sklearn.metrics import roc_curve\n",
    "from sklearn.metrics import roc_auc_score\n",
    "from matplotlib import pyplot"
   ]
  },
  {
   "cell_type": "code",
   "execution_count": 5,
   "metadata": {},
   "outputs": [
    {
     "name": "stdout",
     "output_type": "stream",
     "text": [
      "   Unnamed: 0       age  hypertension  heart_disease  avg_glucose_level  \\\n",
      "0       22061  0.112685      -0.54866      -0.452904          -0.622815   \n",
      "1       14409 -0.658499      -0.54866      -0.452904          -0.665488   \n",
      "2        9677 -2.476291      -0.54866      -0.452904          -0.307997   \n",
      "\n",
      "        bmi   smoking_status  Male  married  urban  children  Private  \\\n",
      "0 -0.495936     never smoked   0.0      1.0    0.0         0      1.0   \n",
      "1 -0.775325  formerly smoked   1.0      1.0    1.0         0      1.0   \n",
      "2 -1.744967     never smoked   0.0      0.0    1.0         0      1.0   \n",
      "\n",
      "   Self-employed  Govt_job  Never_worked  stroke  \n",
      "0            0.0       0.0             0       0  \n",
      "1            0.0       0.0             0       1  \n",
      "2            0.0       0.0             0       0  \n"
     ]
    }
   ],
   "source": [
    "df = pd.read_csv('normalizee_ws(2).csv')\n",
    "print(df.head(3))"
   ]
  },
  {
   "cell_type": "code",
   "execution_count": 6,
   "metadata": {},
   "outputs": [],
   "source": [
    "df['never_smoked'] = 0\n",
    "df['formerly_smoked'] = 0\n",
    "df['smokes'] = 0\n",
    "for i in range(0, len(df.index)):\n",
    "    if df.iloc[i]['smoking_status'] == 'never smoked':\n",
    "        df.loc[i,'never_smoked'] = 1\n",
    "    if df.iloc[i]['smoking_status'] == 'formerly smoked':\n",
    "        df.loc[i,'formerly_smoked'] = 1\n",
    "    if df.iloc[i]['smoking_status'] == 'smokes':\n",
    "        df.loc[i,'smokes'] = 1\n",
    "df = df.drop('smoking_status', axis=1)\n"
   ]
  },
  {
   "cell_type": "code",
   "execution_count": 23,
   "metadata": {},
   "outputs": [],
   "source": [
    "df.to_csv(\"normalizevp.csv\")\n"
   ]
  },
  {
   "cell_type": "code",
   "execution_count": 24,
   "metadata": {},
   "outputs": [
    {
     "name": "stdout",
     "output_type": "stream",
     "text": [
      "Training Features Shape: (47152, 18)\n",
      "Training Labels Shape: (47152,)\n",
      "Testing Features Shape: (11788, 18)\n",
      "Testing Labels Shape: (11788,)\n",
      "training ------------------------------------------\n",
      "Coefficients = "
     ]
    },
    {
     "name": "stderr",
     "output_type": "stream",
     "text": [
      "C:\\Users\\venky\\Anaconda3\\lib\\site-packages\\sklearn\\linear_model\\logistic.py:433: FutureWarning: Default solver will be changed to 'lbfgs' in 0.22. Specify a solver to silence this warning.\n",
      "  FutureWarning)\n"
     ]
    },
    {
     "name": "stdout",
     "output_type": "stream",
     "text": [
      " [[-7.01219774e-05  9.46620136e-05  1.72560643e-02  6.56123535e-03\n",
      "   8.26990817e-03  7.28836208e-03 -1.09905291e-03 -3.66446988e-03\n",
      "  -6.50248640e-03 -5.29472685e-03 -4.20919539e-04 -7.71791214e-03\n",
      "  -6.93744599e-04 -1.39967590e-03 -6.50097427e-05 -5.95540717e-03\n",
      "  -9.38262140e-04 -3.80186543e-03]]\n",
      "Intercept =  [-0.01069553]\n",
      "Accuracy 0.7888530709195792\n",
      "Confusion = [[15730  7893]\n",
      " [ 2063 21466]]\n",
      "              precision    recall  f1-score   support\n",
      "\n",
      "           0       0.88      0.67      0.76     23623\n",
      "           1       0.73      0.91      0.81     23529\n",
      "\n",
      "   micro avg       0.79      0.79      0.79     47152\n",
      "   macro avg       0.81      0.79      0.79     47152\n",
      "weighted avg       0.81      0.79      0.79     47152\n",
      "\n",
      "AUC: 0.789\n"
     ]
    },
    {
     "data": {
      "image/png": "[encoded data removed]",
      "text/plain": [
       "<Figure size 432x288 with 1 Axes>"
      ]
     },
     "metadata": {
      "needs_background": "light"
     },
     "output_type": "display_data"
    },
    {
     "data": {
      "image/png": "[encoded data removed]",
      "text/plain": [
       "<Figure size 432x288 with 1 Axes>"
      ]
     },
     "metadata": {
      "needs_background": "light"
     },
     "output_type": "display_data"
    },
    {
     "name": "stdout",
     "output_type": "stream",
     "text": [
      "testing----------------------------------------------\n",
      "Coefficients =  [[-7.01219774e-05  9.46620136e-05  1.72560643e-02  6.56123535e-03\n",
      "   8.26990817e-03  7.28836208e-03 -1.09905291e-03 -3.66446988e-03\n",
      "  -6.50248640e-03 -5.29472685e-03 -4.20919539e-04 -7.71791214e-03\n",
      "  -6.93744599e-04 -1.39967590e-03 -6.50097427e-05 -5.95540717e-03\n",
      "  -9.38262140e-04 -3.80186543e-03]]\n",
      "Intercept =  [-0.01069553]\n",
      "Accuracy 0.7870715982354938\n",
      "Confusion = [[3851 1996]\n",
      " [ 514 5427]]\n",
      "              precision    recall  f1-score   support\n",
      "\n",
      "           0       0.88      0.66      0.75      5847\n",
      "           1       0.73      0.91      0.81      5941\n",
      "\n",
      "   micro avg       0.79      0.79      0.79     11788\n",
      "   macro avg       0.81      0.79      0.78     11788\n",
      "weighted avg       0.81      0.79      0.78     11788\n",
      "\n",
      "AUC: 0.786\n"
     ]
    },
    {
     "data": {
      "image/png": "[encoded data removed]",
      "text/plain": [
       "<Figure size 432x288 with 1 Axes>"
      ]
     },
     "metadata": {
      "needs_background": "light"
     },
     "output_type": "display_data"
    }
   ],
   "source": [
    "#Logistic Regression\n",
    "df = pd.read_csv('normalizevp.csv')\n",
    "features = df\n",
    "labels = np.array(features['stroke'])\n",
    "train_features, test_features, train_labels, test_labels = train_test_split(features, labels, test_size = 0.20, random_state = 20)\n",
    "\n",
    "\n",
    "train_features = train_features.drop('stroke',axis=1)\n",
    "test_features = test_features.drop('stroke',axis=1)\n",
    "\n",
    "print('Training Features Shape:', train_features.shape)\n",
    "print('Training Labels Shape:', train_labels.shape)\n",
    "print('Testing Features Shape:', test_features.shape)\n",
    "print('Testing Labels Shape:', test_labels.shape)\n",
    "\n",
    "#print(train_labels)\n",
    "lr = LogisticRegression()\n",
    "lr.fit(train_features, train_labels)\n",
    "\n",
    "print(\"training ------------------------------------------\")\n",
    "\n",
    "y_pred = lr.predict(train_features)\n",
    "print('Coefficients = ', lr.coef_)\n",
    "print('Intercept = ', lr.intercept_)\n",
    "print('Accuracy {}'.format(lr.score(train_features, train_labels)))\n",
    "print('Confusion = {}'.format(metrics.confusion_matrix(train_labels, y_pred)))\n",
    "print(classification_report(train_labels, y_pred))\n",
    "\n",
    "auc = roc_auc_score(train_labels, y_pred)\n",
    "print('AUC: %.3f' % auc)\n",
    "fpr, tpr, thresholds = roc_curve(train_labels, y_pred)\n",
    "# plot no skill\n",
    "pyplot.plot([0, 1], [0, 1], linestyle='--')\n",
    "# plot the roc curve for the model\n",
    "pyplot.plot(fpr, tpr, marker='.')\n",
    "# show the plot\n",
    "pyplot.show()\n",
    "\n",
    "\n",
    "pyplot.plot(train_features,y_pred)\n",
    "pyplot.show()\n",
    "\n",
    "\n",
    "\n",
    "print(\"testing----------------------------------------------\")\n",
    "\n",
    "y_pred = lr.predict(test_features)\n",
    "print('Coefficients = ', lr.coef_)\n",
    "print('Intercept = ', lr.intercept_)\n",
    "print('Accuracy {}'.format(lr.score(test_features, test_labels)))\n",
    "print('Confusion = {}'.format(metrics.confusion_matrix(test_labels, y_pred)))\n",
    "print(classification_report(test_labels, y_pred))\n",
    "\n",
    "auc = roc_auc_score(test_labels, y_pred)\n",
    "print('AUC: %.3f' % auc)\n",
    "fpr, tpr, thresholds = roc_curve(test_labels, y_pred)\n",
    "# plot no skill\n",
    "pyplot.plot([0, 1], [0, 1], linestyle='--')\n",
    "# plot the roc curve for the model\n",
    "pyplot.plot(fpr, tpr, marker='.')\n",
    "# show the plot\n",
    "pyplot.show()\n",
    "\n"
   ]
  },
  {
   "cell_type": "code",
   "execution_count": 25,
   "metadata": {},
   "outputs": [
    {
     "name": "stdout",
     "output_type": "stream",
     "text": [
      "Training Features Shape: (29470, 17)\n",
      "Training Labels Shape: (29470,)\n",
      "Testing Features Shape: (29470, 17)\n",
      "Testing Labels Shape: (29470,)\n",
      "Analysis of Training Dataset\n",
      "DecisionTreeClassifier(class_weight=None, criterion='gini', max_depth=None,\n",
      "            max_features=None, max_leaf_nodes=None,\n",
      "            min_impurity_decrease=0.0, min_impurity_split=None,\n",
      "            min_samples_leaf=1, min_samples_split=2,\n",
      "            min_weight_fraction_leaf=0.0, presort=False, random_state=None,\n",
      "            splitter='best')\n",
      "Accuracy= 1.0\n",
      "AUC: 1.000\n"
     ]
    },
    {
     "data": {
      "image/png": "[encoded data removed]",
      "text/plain": [
       "<Figure size 432x288 with 1 Axes>"
      ]
     },
     "metadata": {
      "needs_background": "light"
     },
     "output_type": "display_data"
    }
   ],
   "source": [
    "#Decision Tree Classification\n",
    "from sklearn import tree\n",
    "import graphviz\n",
    "\n",
    "\n",
    "features = df\n",
    "labels = np.array(features['stroke'])\n",
    "train_features, test_features, train_labels, test_labels = train_test_split(features, labels, test_size = 0.50, random_state = 25)\n",
    "\n",
    "\n",
    "train_features = train_features.drop('stroke',axis=1).drop('id',axis=1)\n",
    "test_features = test_features.drop('stroke',axis=1).drop('id',axis=1)\n",
    "\n",
    "print('Training Features Shape:', train_features.shape)\n",
    "print('Training Labels Shape:', train_labels.shape)\n",
    "print('Testing Features Shape:', test_features.shape)\n",
    "print('Testing Labels Shape:', test_labels.shape)\n",
    "\n",
    "#Training Accuracy\n",
    "clf = tree.DecisionTreeClassifier(criterion='gini',splitter='best')\n",
    "clf = clf.fit(train_features, train_labels)\n",
    "y_pred = clf.predict(train_features)\n",
    "\n",
    "print(\"Analysis of Training Dataset\")\n",
    "print(clf)\n",
    "print('Accuracy= {}'.format(metrics.accuracy_score(y_pred,train_labels)))\n",
    "\n",
    "auc = roc_auc_score(train_labels, y_pred)\n",
    "print('AUC: %.3f' % auc)\n",
    "fpr, tpr, thresholds = roc_curve(train_labels, y_pred)\n",
    "# plot no skill\n",
    "pyplot.plot([0, 1], [0, 1], linestyle='--')\n",
    "# plot the roc curve for the model\n",
    "pyplot.plot(fpr, tpr, marker='.')\n",
    "# show the plot\n",
    "pyplot.show()\n",
    "\n"
   ]
  },
  {
   "cell_type": "code",
   "execution_count": 26,
   "metadata": {},
   "outputs": [
    {
     "name": "stdout",
     "output_type": "stream",
     "text": [
      "Confusion Matrix\n",
      "[[14691     0]\n",
      " [    0 14779]]\n"
     ]
    }
   ],
   "source": [
    "print('Confusion Matrix')\n",
    "print('{}'.format(metrics.confusion_matrix(y_pred,train_labels)))"
   ]
  },
  {
   "cell_type": "code",
   "execution_count": 27,
   "metadata": {},
   "outputs": [
    {
     "name": "stdout",
     "output_type": "stream",
     "text": [
      "Analysis of Testing Dataset\n",
      "Accuracy = 0.9387173396674584\n",
      "Confusion Matrix\n",
      "[[13849   876]\n",
      " [  930 13815]]\n",
      "AUC: 0.939\n"
     ]
    },
    {
     "data": {
      "image/png": "[encoded data removed]",
      "text/plain": [
       "<Figure size 432x288 with 1 Axes>"
      ]
     },
     "metadata": {
      "needs_background": "light"
     },
     "output_type": "display_data"
    }
   ],
   "source": [
    "y_pred = clf.predict(test_features)\n",
    "print('Analysis of Testing Dataset')\n",
    "print('Accuracy = {}'.format(metrics.accuracy_score(y_pred,test_labels)))\n",
    "print('Confusion Matrix')\n",
    "print('{}'.format(metrics.confusion_matrix(y_pred,test_labels)))\n",
    "\n",
    "auc = roc_auc_score(test_labels, y_pred)\n",
    "print('AUC: %.3f' % auc)\n",
    "fpr, tpr, thresholds = roc_curve(test_labels, y_pred)\n",
    "# plot no skill\n",
    "pyplot.plot([0, 1], [0, 1], linestyle='--')\n",
    "# plot the roc curve for the model\n",
    "pyplot.plot(fpr, tpr, marker='.')\n",
    "# show the plot\n",
    "pyplot.show()"
   ]
  },
  {
   "cell_type": "code",
   "execution_count": 29,
   "metadata": {},
   "outputs": [],
   "source": [
    "dot_data = tree.export_graphviz(clf, out_file=None, feature_names=['id','age','hypertension','heart_disease','avg_glucose_level','bmi','Male','married','urban','children','Private','Self-employed','Govt_job','Never_worked','never_smoked','smokes','formerly_smoked'],\n",
    "                                class_names=['stroke','no stroke'],filled=True,special_characters=True)\n",
    "graph = graphviz.Source(dot_data)\n",
    "#graph.render(\"stroke-risk\")"
   ]
  },
  {
   "cell_type": "code",
   "execution_count": 30,
   "metadata": {},
   "outputs": [
    {
     "data": {
      "text/plain": [
       "'stroke_ws.pdf'"
      ]
     },
     "execution_count": 30,
     "metadata": {},
     "output_type": "execute_result"
    }
   ],
   "source": [
    "graph.render(\"stroke_ws\")"
   ]
  },
  {
   "cell_type": "code",
   "execution_count": 31,
   "metadata": {},
   "outputs": [
    {
     "name": "stdout",
     "output_type": "stream",
     "text": [
      "Training Features Shape: (47152, 17)\n",
      "Training Labels Shape: (47152,)\n",
      "Testing Features Shape: (11788, 17)\n",
      "Testing Labels Shape: (11788,)\n",
      "\n",
      "Accuracy = 0.7852477095351205\n",
      "Confusion\n",
      "[[16898  3466]\n",
      " [ 6660 20128]]\n",
      "AUC: 0.785\n"
     ]
    },
    {
     "data": {
      "image/png": "[encoded data removed]",
      "text/plain": [
       "<Figure size 432x288 with 1 Axes>"
      ]
     },
     "metadata": {
      "needs_background": "light"
     },
     "output_type": "display_data"
    }
   ],
   "source": [
    "#Naive Bayes\n",
    "from sklearn.naive_bayes import GaussianNB\n",
    "features = df\n",
    "labels = np.array(features['stroke'])\n",
    "train_features, test_features, train_labels, test_labels = train_test_split(features, labels, test_size = 0.20, random_state = 25)\n",
    "\n",
    "\n",
    "train_features = train_features.drop('stroke',axis=1).drop('id',axis=1)\n",
    "test_features = test_features.drop('stroke',axis=1).drop('id',axis=1)\n",
    "\n",
    "print('Training Features Shape:', train_features.shape)\n",
    "print('Training Labels Shape:', train_labels.shape)\n",
    "print('Testing Features Shape:', test_features.shape)\n",
    "print('Testing Labels Shape:', test_labels.shape)\n",
    "\n",
    "gnb = GaussianNB()\n",
    "gnb.fit(train_features,train_labels)\n",
    "y_pred = gnb.predict(train_features)\n",
    "\n",
    "y1_pred = gnb.predict(test_features)\n",
    "print()\n",
    "\n",
    "#training accuracy\n",
    "print('Accuracy = {}'.format(metrics.accuracy_score(y_pred,train_labels)))\n",
    "print('Confusion')\n",
    "print('{}'.format(metrics.confusion_matrix(y_pred, train_labels,[0,1])))\n",
    "\n",
    "auc = roc_auc_score(train_labels, y_pred)\n",
    "print('AUC: %.3f' % auc)\n",
    "fpr, tpr, thresholds = roc_curve(train_labels, y_pred)\n",
    "# plot no skill\n",
    "pyplot.plot([0, 1], [0, 1], linestyle='--')\n",
    "# plot the roc curve for the model\n",
    "pyplot.plot(fpr, tpr, marker='.')\n",
    "# show the plot\n",
    "pyplot.show()\n"
   ]
  },
  {
   "cell_type": "code",
   "execution_count": 32,
   "metadata": {},
   "outputs": [
    {
     "name": "stdout",
     "output_type": "stream",
     "text": [
      "Accuracy = 0.7796912114014252\n",
      "Confusion\n",
      "[[4138  823]\n",
      " [1774 5053]]\n",
      "AUC: 0.780\n"
     ]
    },
    {
     "data": {
      "image/png": "[encoded data removed]",
      "text/plain": [
       "<Figure size 432x288 with 1 Axes>"
      ]
     },
     "metadata": {
      "needs_background": "light"
     },
     "output_type": "display_data"
    }
   ],
   "source": [
    "#testing accuracy\n",
    "print('Accuracy = {}'.format(metrics.accuracy_score(y1_pred,test_labels)))\n",
    "print('Confusion')\n",
    "print('{}'.format(metrics.confusion_matrix(y1_pred, test_labels,[0,1])))\n",
    "\n",
    "auc = roc_auc_score(test_labels, y1_pred)\n",
    "print('AUC: %.3f' % auc)\n",
    "fpr, tpr, thresholds = roc_curve(test_labels, y1_pred)\n",
    "# plot no skill\n",
    "pyplot.plot([0, 1], [0, 1], linestyle='--')\n",
    "# plot the roc curve for the model\n",
    "pyplot.plot(fpr, tpr, marker='.')\n",
    "# show the plot\n",
    "pyplot.show()\n",
    "\n"
   ]
  },
  {
   "cell_type": "code",
   "execution_count": 33,
   "metadata": {},
   "outputs": [
    {
     "name": "stdout",
     "output_type": "stream",
     "text": [
      "Mean Absolute Error:  0.06486511706820497\n",
      "Accuracy: 98.43 %.\n"
     ]
    }
   ],
   "source": [
    "#Random Forest\n",
    "from sklearn.ensemble import RandomForestRegressor\n",
    "\n",
    "rf = RandomForestRegressor(n_estimators = 100, random_state = 42)\n",
    "\n",
    "rf.fit(train_features,train_labels)\n",
    "predictions = rf.predict(test_features)\n",
    "\n",
    "errors = abs(predictions - test_labels)\n",
    "print('Mean Absolute Error: ',round(np.mean(errors),21))\n",
    "\n",
    "psum = sum(np.round(predictions))\n",
    "tsum = sum(test_labels)\n",
    "if psum > tsum:\n",
    "    err = psum - tsum \n",
    "    accuracy = (1 - (err/tsum))*100\n",
    "    print(\"Accuracy:\", round(accuracy,2),'%.')\n",
    "else:\n",
    "    err = tsum - psum\n",
    "    accuracy = (1-err/tsum)*100\n",
    "    print('Accuracy:',round(accuracy,2),'%.')"
   ]
  },
  {
   "cell_type": "code",
   "execution_count": 34,
   "metadata": {},
   "outputs": [
    {
     "name": "stdout",
     "output_type": "stream",
     "text": [
      "AUC: 0.994\n"
     ]
    },
    {
     "data": {
      "image/png": "[encoded data removed]",
      "text/plain": [
       "<Figure size 432x288 with 1 Axes>"
      ]
     },
     "metadata": {
      "needs_background": "light"
     },
     "output_type": "display_data"
    }
   ],
   "source": [
    "auc = roc_auc_score(test_labels, predictions)\n",
    "print('AUC: %.3f' % auc)\n",
    "fpr, tpr, thresholds = roc_curve(test_labels, predictions)\n",
    "# plot no skill\n",
    "pyplot.plot([0, 1], [0, 1], linestyle='--')\n",
    "# plot the roc curve for the model\n",
    "pyplot.plot(fpr, tpr, marker='.')\n",
    "# show the plot\n",
    "pyplot.show()"
   ]
  },
  {
   "cell_type": "code",
   "execution_count": 36,
   "metadata": {},
   "outputs": [
    {
     "data": {
      "text/plain": [
       "'stroke-risk2ws.pdf'"
      ]
     },
     "execution_count": 36,
     "metadata": {},
     "output_type": "execute_result"
    }
   ],
   "source": [
    "\n",
    "\n",
    "# Model (can also use single decision tree)\n",
    "from sklearn.ensemble import RandomForestClassifier\n",
    "model = RandomForestClassifier(n_estimators=10)\n",
    "\n",
    "# Train\n",
    "model.fit(train_features, train_labels)\n",
    "# Extract single tree\n",
    "estimator = model.estimators_[5]\n",
    "\n",
    "from sklearn.tree import export_graphviz\n",
    "# Export as dot file\n",
    "export_graphviz(estimator, out_file=None, \n",
    "                feature_names = ['id','age','hypertension','heart_disease','avg_glucose_level','bmi','Male','married','urban','children','Private','Self-employed','Govt_job','Never_worked','never_smoked','smokes','formerly_smoked'],\n",
    "                class_names=['stroke','no stroke'],\n",
    "                rounded = True, proportion = False, \n",
    "                precision = 2, filled = True)\n",
    "\n",
    "\n",
    "graph = graphviz.Source(dot_data)\n",
    "graph.render(\"stroke-risk2ws\")\n"
   ]
  },
  {
   "cell_type": "code",
   "execution_count": null,
   "metadata": {},
   "outputs": [],
   "source": []
  }
 ],
 "metadata": {
  "kernelspec": {
   "display_name": "Python 3",
   "language": "python",
   "name": "python3"
  },
  "language_info": {
   "codemirror_mode": {
    "name": "ipython",
    "version": 3
   },
   "file_extension": ".py",
   "mimetype": "text/x-python",
   "name": "python",
   "nbconvert_exporter": "python",
   "pygments_lexer": "ipython3",
   "version": "3.7.1"
  }
 },
 "nbformat": 4,
 "nbformat_minor": 2
}
